{
  "nbformat": 4,
  "nbformat_minor": 0,
  "metadata": {
    "colab": {
      "name": "VARIF Research",
      "provenance": [],
      "collapsed_sections": []
    },
    "kernelspec": {
      "name": "python3",
      "display_name": "Python 3"
    },
    "language_info": {
      "name": "python"
    }
  },
  "cells": [
    {
      "cell_type": "markdown",
      "source": [
        "**Vector Autoregressive Inflation Forecasting: A survey between conventional and machine learning based models**"
      ],
      "metadata": {
        "id": "Onvb96kyeBxT"
      }
    },
    {
      "cell_type": "code",
      "source": [
        ""
      ],
      "metadata": {
        "id": "bh192SESePbg"
      },
      "execution_count": null,
      "outputs": []
    }
  ]
}