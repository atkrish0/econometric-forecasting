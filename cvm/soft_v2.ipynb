{
 "cells": [
  {
   "cell_type": "markdown",
   "id": "aea78282",
   "metadata": {},
   "source": [
    "### Project Scaffolding"
   ]
  },
  {
   "cell_type": "code",
   "execution_count": 1,
   "id": "64727a80",
   "metadata": {},
   "outputs": [
    {
     "name": "stdout",
     "output_type": "stream",
     "text": [
      "Project: /Users/atheeshkrishnan/AK/DEV/econometric-forecasting/cvm\n",
      "Data files present: ['CPI-Data.xlsx', 'CMO-Historical-Data-Monthly.xlsx']\n"
     ]
    }
   ],
   "source": [
    "# --- Environment & paths ---\n",
    "import os, sys, warnings, math, json, textwrap\n",
    "from pathlib import Path\n",
    "import numpy as np\n",
    "import pandas as pd\n",
    "\n",
    "# Reproducibility\n",
    "np.random.seed(42)\n",
    "\n",
    "# Base project folder (adjust if your notebook sits elsewhere)\n",
    "PROJ = Path.cwd()              # e.g., .../cvm\n",
    "DATA = PROJ                    # data files live here per your screenshot\n",
    "ART = PROJ / \"artifacts\"\n",
    "FIG = ART / \"figures\"\n",
    "CSV = ART / \"csv\"\n",
    "for d in [ART, FIG, CSV]:\n",
    "    d.mkdir(parents=True, exist_ok=True)\n",
    "\n",
    "print(f\"Project: {PROJ}\")\n",
    "print(f\"Data files present:\", [p.name for p in DATA.glob(\"*.xlsx\")])"
   ]
  },
  {
   "cell_type": "markdown",
   "id": "100500d7",
   "metadata": {},
   "source": [
    "### Data Ingestion"
   ]
  },
  {
   "cell_type": "code",
   "execution_count": 2,
   "id": "ce68e01a",
   "metadata": {},
   "outputs": [],
   "source": [
    "# ---------- Helpers ----------\n",
    "def coerce_datetime(col):\n",
    "    \"\"\"Coerce a column to pandas Period(M) if monthly, else DatetimeIndex.\"\"\"\n",
    "    s = pd.to_datetime(col, errors=\"coerce\")\n",
    "    # treat monthly series as MonthEnd dates\n",
    "    s = s.dt.to_period(\"M\").dt.to_timestamp(\"M\")\n",
    "    return s\n",
    "\n",
    "def read_cmo_xlsx(path: Path, sheet=None, header=None):\n",
    "    \"\"\"\n",
    "    Robust loader for World Bank CMO Monthly workbook.\n",
    "    Returns a tidy DataFrame with Date index and commodity columns (float).\n",
    "    - Set `sheet` and `header` if you know them; else we auto-detect.\n",
    "    \"\"\"\n",
    "    # Try a direct read; if it fails, try first sheet and search for 'Date'\n",
    "    try:\n",
    "        df0 = pd.read_excel(path, sheet_name=sheet, header=header)\n",
    "    except Exception:\n",
    "        df0 = pd.read_excel(path, sheet_name=0, header=None)\n",
    "\n",
    "    # Heuristic: locate the row whose first cell matches 'Date' (case-insensitive)\n",
    "    if header is None:\n",
    "        hdr_row = None\n",
    "        for i in range(min(30, len(df0))):\n",
    "            v = str(df0.iloc[i, 0]).strip().lower()\n",
    "            if v in (\"date\", \"month\", \"time\"):\n",
    "                hdr_row = i\n",
    "                break\n",
    "        if hdr_row is not None:\n",
    "            df0 = pd.read_excel(path, sheet_name=sheet or 0, header=hdr_row)\n",
    "\n",
    "    # Drop fully-empty cols/rows\n",
    "    df0 = df0.dropna(axis=0, how=\"all\").dropna(axis=1, how=\"all\")\n",
    "\n",
    "    # Expect first column to be date-like\n",
    "    date_col = df0.columns[0]\n",
    "    df0[date_col] = coerce_datetime(df0[date_col])\n",
    "    df0 = df0.rename(columns={date_col: \"Date\"}).set_index(\"Date\")\n",
    "\n",
    "    # Keep only numeric columns (commodity price series)\n",
    "    df_num = df0.select_dtypes(include=[np.number]).copy()\n",
    "    # Forward-fill occasional gaps (typical in monthly sheets)\n",
    "    df_num = df_num.sort_index().ffill()\n",
    "\n",
    "    return df_num\n",
    "\n",
    "def read_cpi_xlsx(path: Path, sheet=None, header=None):\n",
    "    \"\"\"\n",
    "    Flexible CPI loader. Accepts common BLS formats:\n",
    "    - Columns like ['DATE','Value'] or ['Year','Period','Value'] or custom ['Date','CPI'].\n",
    "    Returns a monthly Date index and a single 'CPI' column as float.\n",
    "    \"\"\"\n",
    "    df = pd.read_excel(path, sheet_name=sheet, header=header)\n",
    "    df = df.dropna(how=\"all\", axis=1).dropna(how=\"all\", axis=0)\n",
    "\n",
    "    # Try to find a date column\n",
    "    candidates_date = [c for c in df.columns if str(c).lower() in (\"date\",\"month\",\"period\",\"time\",\"observation_date\")]\n",
    "    if not candidates_date:\n",
    "        # try common BLS wide → long conversions\n",
    "        # if year/period provided, build a date\n",
    "        if {\"year\",\"period\",\"value\"}.issubset({str(c).lower() for c in df.columns}):\n",
    "            cmap = {c:str(c).lower() for c in df.columns}\n",
    "            y = df[[c for c in df.columns if str(c).lower()==\"year\"][0]]\n",
    "            p = df[[c for c in df.columns if str(c).lower()==\"period\"][0]].astype(str).str.replace(\"M\",\"\", regex=False)\n",
    "            v = df[[c for c in df.columns if str(c).lower()==\"value\"][0]]\n",
    "            dt = pd.to_datetime(y.astype(str) + \"-\" + p.str.zfill(2) + \"-01\") + pd.offsets.MonthEnd(0)\n",
    "            out = pd.DataFrame({\"Date\": dt, \"CPI\": pd.to_numeric(v, errors=\"coerce\")})\n",
    "            return out.dropna().set_index(\"Date\").sort_index()\n",
    "        else:\n",
    "            raise ValueError(\"Could not find a recognizable date structure in CPI file.\")\n",
    "\n",
    "    date_col = candidates_date[0]\n",
    "    # Try to find value column\n",
    "    candidates_val = [c for c in df.columns if str(c).lower() in (\"value\",\"cpi\",\"cpiall\",\"cpisa\",\"index\",\"obs_value\")]\n",
    "    if not candidates_val:\n",
    "        # if exactly two columns, assume the non-date is value\n",
    "        if df.shape[1] == 2:\n",
    "            candidates_val = [c for c in df.columns if c != date_col]\n",
    "        else:\n",
    "            raise ValueError(\"Could not find a CPI value column. Rename one column to 'Value' or 'CPI'.\")\n",
    "\n",
    "    val_col = candidates_val[0]\n",
    "    out = pd.DataFrame({\n",
    "        \"Date\": coerce_datetime(df[date_col]),\n",
    "        \"CPI\": pd.to_numeric(df[val_col], errors=\"coerce\")\n",
    "    }).dropna()\n",
    "    return out.set_index(\"Date\").sort_index()\n"
   ]
  },
  {
   "cell_type": "code",
   "execution_count": 3,
   "id": "880cafb7",
   "metadata": {},
   "outputs": [
    {
     "ename": "AttributeError",
     "evalue": "'dict' object has no attribute 'iloc'",
     "output_type": "error",
     "traceback": [
      "\u001b[0;31m---------------------------------------------------------------------------\u001b[0m",
      "\u001b[0;31mAttributeError\u001b[0m                            Traceback (most recent call last)",
      "Cell \u001b[0;32mIn[3], line 5\u001b[0m\n\u001b[1;32m      2\u001b[0m CMO_PATH \u001b[38;5;241m=\u001b[39m DATA \u001b[38;5;241m/\u001b[39m \u001b[38;5;124m\"\u001b[39m\u001b[38;5;124mCMO-Historical-Data-Monthly.xlsx\u001b[39m\u001b[38;5;124m\"\u001b[39m\n\u001b[1;32m      3\u001b[0m CPI_PATH \u001b[38;5;241m=\u001b[39m DATA \u001b[38;5;241m/\u001b[39m \u001b[38;5;124m\"\u001b[39m\u001b[38;5;124mCPI-Data.xlsx\u001b[39m\u001b[38;5;124m\"\u001b[39m\n\u001b[0;32m----> 5\u001b[0m prices_nominal \u001b[38;5;241m=\u001b[39m read_cmo_xlsx(CMO_PATH)\n\u001b[1;32m      6\u001b[0m cpi \u001b[38;5;241m=\u001b[39m read_cpi_xlsx(CPI_PATH)\n\u001b[1;32m      8\u001b[0m \u001b[38;5;28mprint\u001b[39m(\u001b[38;5;124m\"\u001b[39m\u001b[38;5;124mCMO shape:\u001b[39m\u001b[38;5;124m\"\u001b[39m, prices_nominal\u001b[38;5;241m.\u001b[39mshape)\n",
      "Cell \u001b[0;32mIn[2], line 25\u001b[0m, in \u001b[0;36mread_cmo_xlsx\u001b[0;34m(path, sheet, header)\u001b[0m\n\u001b[1;32m     23\u001b[0m hdr_row \u001b[38;5;241m=\u001b[39m \u001b[38;5;28;01mNone\u001b[39;00m\n\u001b[1;32m     24\u001b[0m \u001b[38;5;28;01mfor\u001b[39;00m i \u001b[38;5;129;01min\u001b[39;00m \u001b[38;5;28mrange\u001b[39m(\u001b[38;5;28mmin\u001b[39m(\u001b[38;5;241m30\u001b[39m, \u001b[38;5;28mlen\u001b[39m(df0))):\n\u001b[0;32m---> 25\u001b[0m     v \u001b[38;5;241m=\u001b[39m \u001b[38;5;28mstr\u001b[39m(df0\u001b[38;5;241m.\u001b[39miloc[i, \u001b[38;5;241m0\u001b[39m])\u001b[38;5;241m.\u001b[39mstrip()\u001b[38;5;241m.\u001b[39mlower()\n\u001b[1;32m     26\u001b[0m     \u001b[38;5;28;01mif\u001b[39;00m v \u001b[38;5;129;01min\u001b[39;00m (\u001b[38;5;124m\"\u001b[39m\u001b[38;5;124mdate\u001b[39m\u001b[38;5;124m\"\u001b[39m, \u001b[38;5;124m\"\u001b[39m\u001b[38;5;124mmonth\u001b[39m\u001b[38;5;124m\"\u001b[39m, \u001b[38;5;124m\"\u001b[39m\u001b[38;5;124mtime\u001b[39m\u001b[38;5;124m\"\u001b[39m):\n\u001b[1;32m     27\u001b[0m         hdr_row \u001b[38;5;241m=\u001b[39m i\n",
      "\u001b[0;31mAttributeError\u001b[0m: 'dict' object has no attribute 'iloc'"
     ]
    }
   ],
   "source": [
    "# ---------- Load data ----------\n",
    "CMO_PATH = DATA / \"CMO-Historical-Data-Monthly.xlsx\"\n",
    "CPI_PATH = DATA / \"CPI-Data.xlsx\"\n",
    "\n",
    "prices_nominal = read_cmo_xlsx(CMO_PATH)\n",
    "cpi = read_cpi_xlsx(CPI_PATH)\n",
    "\n",
    "print(\"CMO shape:\", prices_nominal.shape)\n",
    "print(\"CPI shape:\", cpi.shape)\n",
    "print(\"CMO date range:\", prices_nominal.index.min(), \"→\", prices_nominal.index.max())\n",
    "print(\"CPI  date range:\", cpi.index.min(), \"→\", cpi.index.max())\n",
    "print(\"First 10 commodity columns:\", list(prices_nominal.columns[:10]))"
   ]
  },
  {
   "cell_type": "code",
   "execution_count": null,
   "id": "42165357",
   "metadata": {},
   "outputs": [],
   "source": []
  }
 ],
 "metadata": {
  "kernelspec": {
   "display_name": "base",
   "language": "python",
   "name": "python3"
  },
  "language_info": {
   "codemirror_mode": {
    "name": "ipython",
    "version": 3
   },
   "file_extension": ".py",
   "mimetype": "text/x-python",
   "name": "python",
   "nbconvert_exporter": "python",
   "pygments_lexer": "ipython3",
   "version": "3.11.5"
  }
 },
 "nbformat": 4,
 "nbformat_minor": 5
}
